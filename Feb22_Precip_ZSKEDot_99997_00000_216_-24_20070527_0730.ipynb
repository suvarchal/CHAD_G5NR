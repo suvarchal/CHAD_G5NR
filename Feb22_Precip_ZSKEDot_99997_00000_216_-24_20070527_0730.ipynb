{
 "cells": [
  {
   "cell_type": "markdown",
   "metadata": {
    "collapsed": true
   },
   "source": [
    "# G5NR Case Notebook\n",
    "\n",
    "(Created 2016-03-07 15:57:00)<br>\n",
    "**Quick Stats:**<br>2007-05-27 07:30:00<br>216 E -24 N<br>X= 97 mm day-1 Y=-1.623 m2 s-3 (x 10^-3)<br>x%: 99.997 y%: 0.000<br>"
   ]
  },
  {
   "cell_type": "markdown",
   "metadata": {},
   "source": [
    "### Auto-Generated CHAD Snapshot and G5NR Image Archive Crops:"
   ]
  },
  {
   "cell_type": "markdown",
   "metadata": {},
   "source": [
    "**Common Filename:** `Precip_ZSKEDot_99997_00000_216_-24_20070527_0730`![](../Images/Precip_ZSKEDot_99997_00000_216_-24_20070527_0730_CH.png)"
   ]
  },
  {
   "cell_type": "markdown",
   "metadata": {},
   "source": [
    "![](../Images/Precip_ZSKEDot_99997_00000_216_-24_20070527_0730_cyclones.png)"
   ]
  },
  {
   "cell_type": "markdown",
   "metadata": {},
   "source": [
    "![](../Images/Precip_ZSKEDot_99997_00000_216_-24_20070527_0730_storms.png)"
   ]
  },
  {
   "cell_type": "markdown",
   "metadata": {},
   "source": [
    "### Launch an IDV session"
   ]
  },
  {
   "cell_type": "code",
   "execution_count": null,
   "metadata": {
    "collapsed": false
   },
   "outputs": [],
   "source": [
    "showIdv()"
   ]
  },
  {
   "cell_type": "markdown",
   "metadata": {},
   "source": [
    "### Load one of the case bundles\n",
    "*Uncomment the load command for the bundle you'd like to use*"
   ]
  },
  {
   "cell_type": "code",
   "execution_count": null,
   "metadata": {
    "collapsed": true
   },
   "outputs": [],
   "source": [
    "#loadBundle('../GeneratedBundles/Precip_ZSKEDot_99997_00000_216_-24_20070527_0730_full.xidv')\n",
    "#loadBundle('../GeneratedBundles/Precip_ZSKEDot_99997_00000_216_-24_20070527_0730_simple.xidv')\n"
   ]
  },
  {
   "cell_type": "markdown",
   "metadata": {},
   "source": [
    "### Image Creation"
   ]
  },
  {
   "cell_type": "code",
   "execution_count": null,
   "metadata": {
    "collapsed": true
   },
   "outputs": [],
   "source": [
    "showImgWithLegend()"
   ]
  }
 ],
 "metadata": {
  "anaconda-cloud": {},
  "kernelspec": {
   "display_name": "IDV",
   "language": "python",
   "name": "jyidv_kernel"
  },
  "language_info": {
   "codemirror_mode": {
    "name": "text/x-python",
    "version": 2
   },
   "file_extension": ".py",
   "help_links": [
    {
     "text": "Jython",
     "url": "www.jython.org"
    },
    {
     "text": "Jython Kernel Help",
     "url": "https://github.com/suvarchal/IJython"
    }
   ],
   "mimetype": "text/x-python",
   "name": "jython",
   "pygments_lexer": "python"
  }
 },
 "nbformat": 4,
 "nbformat_minor": 0
}
