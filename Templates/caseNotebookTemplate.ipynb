{
 "cells": [
  {
   "cell_type": "markdown",
   "metadata": {
    "collapsed": true
   },
   "source": [
    "## G5NR Case Notebook\n",
    "\n",
    "(Created INSERT_DATE)<br>\n",
    "**Quick Stats:**<br>"
   ]
  },
  {
   "cell_type": "markdown",
   "metadata": {},
   "source": [
    "Auto-generated quicklook images above are from http://g5nr.nccs.nasa.gov/images"
   ]
  },
  {
   "cell_type": "markdown",
   "metadata": {},
   "source": [
    "---\n",
    "## User-generated imagery and notes: "
   ]
  },
  {
   "cell_type": "markdown",
   "metadata": {},
   "source": [
    "#### To create these, uncomment and execute one of the commands below\n",
    "\n",
    "##### Tip: \n",
    "For faster user-data interaction, do an offline data fetch first.\n",
    "To do that, use a terminal to run this command on some networked machine with IDV installed (maybe this one), using the Script you can find here ../Output/Scripts/ directory : \n",
    "\n",
    "runIDV ../Output/Scripts/(case_string).isl \n",
    "\n",
    "That will do all the data fetching from the NASA servers as a batch job. Once that is done, you can replace (fliename).xidv here with (filename).zidv in the lines below, after placing the .zidv file in the right place. Then, you can interact rapidly with data on your local machine, instead of with data that must be obtained via slow remote-server hyperslabbing.  "
   ]
  },
  {
   "cell_type": "code",
   "execution_count": null,
   "metadata": {
    "collapsed": false
   },
   "outputs": [],
   "source": [
    "loadBundle()"
   ]
  },
  {
   "cell_type": "markdown",
   "metadata": {},
   "source": [
    "---\n",
    "#### Figure 1: "
   ]
  },
  {
   "cell_type": "code",
   "execution_count": null,
   "metadata": {
    "collapsed": false
   },
   "outputs": [],
   "source": [
    "showImgWithLegend()"
   ]
  },
  {
   "cell_type": "markdown",
   "metadata": {},
   "source": [
    "*Caption for Fig. 1: *"
   ]
  },
  {
   "cell_type": "markdown",
   "metadata": {},
   "source": [
    "(select the above triplet of cells and Edit --> copy-paste to create more...)"
   ]
  },
  {
   "cell_type": "markdown",
   "metadata": {},
   "source": [
    "----\n",
    "### To script the pre-downloading of data to make an IDV Zipped bundle, and a .png thumbnail and bigger .mov file of the IDV's viewport, *type the following* (out at command line, in main directory of CHAD_G5NR)\n",
    "\n",
    "$IDVHOME/runIDV Output/Scripts/idvImZIDVOutput(ThatLongFilestring).isl"
   ]
  }
 ],
 "metadata": {
  "anaconda-cloud": {},
  "kernelspec": {
   "display_name": "IDV",
   "language": "python",
   "name": "jyidv_kernel"
  },
  "language_info": {
   "codemirror_mode": {
    "name": "text/x-python",
    "version": 2
   },
   "file_extension": ".py",
   "help_links": [
    {
     "text": "Jython",
     "url": "www.jython.org"
    },
    {
     "text": "Jython Kernel Help",
     "url": "https://github.com/suvarchal/IJython"
    }
   ],
   "mimetype": "text/x-python",
   "name": "jython",
   "pygments_lexer": "python"
  }
 },
 "nbformat": 4,
 "nbformat_minor": 0
}
