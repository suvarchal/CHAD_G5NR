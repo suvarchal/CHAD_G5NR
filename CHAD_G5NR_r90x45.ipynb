{
 "cells": [
  {
   "cell_type": "markdown",
   "metadata": {},
   "source": [
    "# Drilling down into 4-degree scale statistics of the GEOS-5 Nature Run\n",
    "\n",
    "The G5NR experiment is described at http://g5nr.nccs.nasa.gov/<br>\n",
    "This software is from https://github.com/brianmapes/CHAD_G5NR <br>\n",
    "Questions? Brian Mapes ([mapes@miami.edu](mailto:mapes@miami.edu))<br>\n",
    "\n",
    "Original author was Matthew Niznik (a postdoc 2015-2016), with the more general package:<br>\n",
    "https://github.com/matthewniznik/ClickHist/wiki<br>\n",
    "http://matthewniznik.com/research-projects/clickhist<br>"
   ]
  },
  {
   "cell_type": "markdown",
   "metadata": {},
   "source": [
    "### First, pick a Tag that will prepend the filenames of this session's *Case Notebooks*."
   ]
  },
  {
   "cell_type": "code",
   "execution_count": 9,
   "metadata": {
    "collapsed": true
   },
   "outputs": [],
   "source": [
    "sessionName = 'MyFirstSession'"
   ]
  },
  {
   "cell_type": "markdown",
   "metadata": {},
   "source": [
    "### What space-time subset are you interested in exploring? \n",
    "\n",
    "Longitude: 0 through 360 (Degrees East)<br>\n",
    "Latitude: -90 through 90 (Degrees North)<br>\n",
    "Time: indices of the 18200 hours in this dataset (data starts on nominal \"2005-05-16\", but recall it is just a simulation)."
   ]
  },
  {
   "cell_type": "code",
   "execution_count": 10,
   "metadata": {
    "collapsed": true
   },
   "outputs": [],
   "source": [
    "lonLow = 360.-160.\n",
    "lonHigh = 360.-150.\n",
    "latLow = -25.0\n",
    "latHigh = -15.0\n",
    "\n",
    "#These are indices in the range [0, 18200 or so], a simple range limiter to speed up data reading\n",
    "timelimit1 = 18000\n",
    "timelimit2 = 18010"
   ]
  },
  {
   "cell_type": "markdown",
   "metadata": {},
   "source": [
    "### What two 4-degree variables do you want to scatterplot, and then pick cases from?\n",
    "\n",
    "*The units and ranges are hardwired into the module housekeeping_G5NR.py. So you have to pick from a list of options which are set there (case sensitive). The 4 degree dataset has many more quantities whose scatterplot ranges could be set, and then they could be used. See its header for the names of those available variables. Here, TEEF is Total Eddy Enthalpy Flux at 500mb, good for finding deep convection especially in dry 500mb environments. SKEdot is the change in column-integrated shear kinetic energy by eddy momentum flux. HMV is horizontal momentum variance, good for finding tropical storm centers.* <br>\n",
    "Precip, W500, wPuP, TEEF, SKEDot, HMV"
   ]
  },
  {
   "cell_type": "code",
   "execution_count": 11,
   "metadata": {
    "collapsed": true
   },
   "outputs": [],
   "source": [
    "var1Name = 'Precip'\n",
    "var2Name = 'SKEDot'"
   ]
  },
  {
   "cell_type": "markdown",
   "metadata": {},
   "source": [
    "### Which quicklooks from the [online G5NR repository](http://g5nr.nccs.nasa.gov/images/) would you like your notebooks to contain?\n",
    "\n",
    "**Options:** 'cloudsir', 'cloudsvis', 'cyclones', 'storms', 'temperature', 'tropical', 'water', 'winds'\n",
    "<br>*N.B. Must be a list. If image saving time is prohibitively long, shorten the list of variables.*"
   ]
  },
  {
   "cell_type": "code",
   "execution_count": 12,
   "metadata": {
    "collapsed": true
   },
   "outputs": [],
   "source": [
    "imageVar = ['cloudsir','tropical']"
   ]
  },
  {
   "cell_type": "markdown",
   "metadata": {},
   "source": [
    "--------\n",
    "### Only advanced users will adjust the things below. Hit shift-return again and again to get on with the show!"
   ]
  },
  {
   "cell_type": "markdown",
   "metadata": {},
   "source": [
    "#### This sets the URL of Brian's preprocessed dataset on a 4 degree hourly mesh \n",
    "These data were derived and rebinned from NASA's 0.5deg set. For faster response times, you could download the 4-degree statistics file locally, and then use its pathname as urlToLoad. \n",
    "Here is the 6GB file if you want to download it: http://weather.rsmas.miami.edu/repository/entry/show?entryid=synth%3Aeab82de2-d682-4dc0-ba8b-2fac7746d269%3AL2FsbFZhcnNfcjkweDQ1XzIwMTZfRGVjX25vWlNLRURPVC5uYzQ%3D"
   ]
  },
  {
   "cell_type": "code",
   "execution_count": 13,
   "metadata": {
    "collapsed": true
   },
   "outputs": [],
   "source": [
    "urlToLoad = ('http://weather.rsmas.miami.edu/repository/opendap/'+\n",
    "             'synth:eab82de2-d682-4dc0-ba8b-2fac7746d269:'+\n",
    "             'L2FsbFZhcnNfcjkweDQ1XzIwMTZfRGVjX25vWlNLRURPVC5uYzQ=/entry.das')  "
   ]
  },
  {
   "cell_type": "markdown",
   "metadata": {},
   "source": [
    "#### This is a list of pre-made 'template' IDV bundles (a collection of datasets and displays), which ClickHist will modify to focus on the time and location relevant to scatter points you select. It's nice to have a fast small 'simple' one, and a rich deep 'full' one. \n",
    "**Note:** The *first* bundle here will be the one referenced in a script output that allows you to do a batch process that reads in the data and pre-generates images, movies, and a local .zidv file for fast interactive loading. It should probably be the \"full\" bundle with all the variables you want to study."
   ]
  },
  {
   "cell_type": "code",
   "execution_count": 14,
   "metadata": {
    "collapsed": true
   },
   "outputs": [],
   "source": [
    "bundleInFilenames = ['G5NR_template_full', 'G5NR_template_simple_cloudsir']\n",
    "bundleOutTags = ['full', 'simple']"
   ]
  },
  {
   "cell_type": "markdown",
   "metadata": {},
   "source": [
    "#### Set how large you want your IDV bundle of detailed data to be in space and time\n",
    "Each of these is calculated as distance from center, so `lonOffset = 1.0` means 2.0° of longitude. `dtFromCenter` needs to be in seconds"
   ]
  },
  {
   "cell_type": "code",
   "execution_count": 15,
   "metadata": {
    "collapsed": true
   },
   "outputs": [],
   "source": [
    "lonOffset = 1.0\n",
    "latOffset = 1.0\n",
    "dtFromCenter = 3*3600. # in seconds"
   ]
  },
  {
   "cell_type": "markdown",
   "metadata": {},
   "source": [
    "#### Would you like specific quantile lines indicated in the scatterplot? \n",
    "**If so, specify them here.**"
   ]
  },
  {
   "cell_type": "code",
   "execution_count": 16,
   "metadata": {
    "collapsed": true
   },
   "outputs": [],
   "source": [
    "quantiles = [0.01,0.1,1,5,95,99,99.9,99.99]"
   ]
  },
  {
   "cell_type": "markdown",
   "metadata": {},
   "source": [
    "--------\n",
    "## Now, the action. Hit shift-return again and again to get on with the show!"
   ]
  },
  {
   "cell_type": "markdown",
   "metadata": {},
   "source": [
    "### Import the necessary modules\n",
    "\n",
    "*Currently supported graphics backends are Qt4Agg ('qt4') and TK ('tk')*"
   ]
  },
  {
   "cell_type": "code",
   "execution_count": 17,
   "metadata": {
    "collapsed": false
   },
   "outputs": [],
   "source": [
    "#%matplotlib tk\n",
    "%matplotlib qt4\n",
    "import matplotlib\n",
    "#matplotlib.use('TkAgg')\n",
    "#matplotlib.use('Qt4Agg')\n",
    "\n",
    "from IPython.display import clear_output\n",
    "import netCDF4 #If this gives an error, in a terminal type conda install netCDF4 or pip netCDF4\n",
    "import sys\n",
    "\n",
    "import ClickHist_G5NR as ClickHist\n",
    "import ClickHistDo_G5NR as ClickHistDo\n",
    "import housekeeping_G5NR\n",
    "import numpy as np"
   ]
  },
  {
   "cell_type": "markdown",
   "metadata": {},
   "source": [
    "#### The following scatterplot features (axis labels, joint histogram bin labels, etc.) are set to values that are hidden in the module `housekeeping_G5NR`\n",
    "\n",
    "(You can change them in the module if desired, or here directly. Yes, this is inelegant.)"
   ]
  },
  {
   "cell_type": "code",
   "execution_count": 18,
   "metadata": {
    "collapsed": false
   },
   "outputs": [],
   "source": [
    "lonValueName = housekeeping_G5NR.lonValueName\n",
    "latValueName = housekeeping_G5NR.latValueName\n",
    "timeValueName = housekeeping_G5NR.timeValueName\n",
    "startDatetime = housekeeping_G5NR.startDatetime\n",
    "\n",
    "var1Edges = housekeeping_G5NR.binOptions[var1Name]\n",
    "var2Edges = housekeeping_G5NR.binOptions[var2Name]\n",
    "\n",
    "var1FmtStr = housekeeping_G5NR.fmtStrOptions[var1Name]\n",
    "var2FmtStr = housekeeping_G5NR.fmtStrOptions[var2Name]\n",
    "\n",
    "var1ValueName = housekeeping_G5NR.valueNameOptions[var1Name]\n",
    "var2ValueName = housekeeping_G5NR.valueNameOptions[var2Name]\n",
    "\n",
    "var1Units = housekeeping_G5NR.varUnitOptions[var1Name]\n",
    "var2Units = housekeeping_G5NR.varUnitOptions[var2Name]\n",
    "metadata_UD = (var1Name+' vs '+var2Name+': '+\n",
    "               str(lonLow)+' to '+str(lonHigh)+' E, '+\n",
    "               str(latLow)+' to '+str(latHigh)+' N')\n",
    "\n",
    "var1ValueMult = housekeeping_G5NR.varMultOptions[var1Name]\n",
    "var2ValueMult = housekeeping_G5NR.varMultOptions[var2Name]"
   ]
  },
  {
   "cell_type": "markdown",
   "metadata": {},
   "source": [
    "## Load the Dataset and grab the coordinate variables"
   ]
  },
  {
   "cell_type": "code",
   "execution_count": 19,
   "metadata": {
    "collapsed": false
   },
   "outputs": [],
   "source": [
    "cdfIn = netCDF4.Dataset(urlToLoad,'r')\n",
    "\n",
    "lonValues = cdfIn.variables[lonValueName][:]\n",
    "latValues = cdfIn.variables[latValueName][:]\n",
    "timeValues = cdfIn.variables[timeValueName][timelimit1:timelimit2]*housekeeping_G5NR.timeValueMult"
   ]
  },
  {
   "cell_type": "markdown",
   "metadata": {},
   "source": [
    "#### By finding the needed index ranges here, we will load only the desired subset of the data."
   ]
  },
  {
   "cell_type": "code",
   "execution_count": 21,
   "metadata": {
    "collapsed": false
   },
   "outputs": [
    {
     "name": "stdout",
     "output_type": "stream",
     "text": [
      "3 x 3 x 10\n"
     ]
    }
   ],
   "source": [
    "lowLonInt,highLonInt = housekeeping_G5NR.getIntEdges(lonValues,lonLow,lonHigh)\n",
    "lowLatInt,highLatInt = housekeeping_G5NR.getIntEdges(latValues,latLow,latHigh)\n",
    "\n",
    "# How many values are we asking for?\n",
    "print highLatInt+1-lowLatInt, 'x', highLonInt+1-lowLonInt, 'x', np.size(timeValues)"
   ]
  },
  {
   "cell_type": "markdown",
   "metadata": {},
   "source": [
    "#### *Based on the above, the following variable load command may take some time.*"
   ]
  },
  {
   "cell_type": "code",
   "execution_count": 22,
   "metadata": {
    "collapsed": false
   },
   "outputs": [
    {
     "data": {
      "text/plain": [
       "(10, 3, 3)"
      ]
     },
     "execution_count": 22,
     "metadata": {},
     "output_type": "execute_result"
    }
   ],
   "source": [
    "var1Values = cdfIn.variables[var1ValueName][timelimit1:timelimit2,\n",
    "                                            lowLatInt:highLatInt+1,\n",
    "                                            lowLonInt:highLonInt+1]*\\\n",
    "                                            var1ValueMult\n",
    "var2Values = cdfIn.variables[var2ValueName][timelimit1:timelimit2,\n",
    "                                            lowLatInt:highLatInt+1,\n",
    "                                            lowLonInt:highLonInt+1]*\\\n",
    "                                            var2ValueMult\n",
    "\n",
    "np.shape(var1Values)"
   ]
  },
  {
   "cell_type": "code",
   "execution_count": 23,
   "metadata": {
    "collapsed": true
   },
   "outputs": [],
   "source": [
    "cdfIn.close()"
   ]
  },
  {
   "cell_type": "markdown",
   "metadata": {},
   "source": [
    "*(We now subset the longitude and latitude coordinate arrays, since the previous call to getIntEdges needed the full arrays. They were not big, just 1D arrays.)*"
   ]
  },
  {
   "cell_type": "code",
   "execution_count": 24,
   "metadata": {
    "collapsed": true
   },
   "outputs": [],
   "source": [
    "lonValues = lonValues[lowLonInt:highLonInt+1]\n",
    "latValues = latValues[lowLatInt:highLatInt+1]"
   ]
  },
  {
   "cell_type": "markdown",
   "metadata": {},
   "source": [
    "## Create the interactive scatterplot\n",
    "ClickHistDo is the scatterplot and all the stuff it does when clicked. It needs a setup call. "
   ]
  },
  {
   "cell_type": "markdown",
   "metadata": {},
   "source": [
    "*This bug workaround call is necessary to make sure the output displays properly. (If interested in the details, see: http://bit.ly/1SsishU)*"
   ]
  },
  {
   "cell_type": "code",
   "execution_count": 25,
   "metadata": {
    "collapsed": false
   },
   "outputs": [],
   "source": [
    "oldsysstdout = sys.stdout\n",
    "sys.stdout = housekeeping_G5NR.flushfile(sys.stdout)"
   ]
  },
  {
   "cell_type": "markdown",
   "metadata": {},
   "source": [
    "### Initialize 'ClickHistDo'"
   ]
  },
  {
   "cell_type": "code",
   "execution_count": 26,
   "metadata": {
    "collapsed": false
   },
   "outputs": [],
   "source": [
    "ClickHistDo1 = ClickHistDo.ClickHistDo(lonValues,latValues,\n",
    "                                       timeValues,startDatetime,\n",
    "                                       bundleInFilenames,\n",
    "                                       bundleOutTags,\n",
    "                                       sessionName,\n",
    "                                       xVarName=var1Name,\n",
    "                                       yVarName=var2Name,\n",
    "                                       lonOffset=lonOffset,\n",
    "                                       latOffset=latOffset,\n",
    "                                       dtFromCenter=dtFromCenter,\n",
    "                                       imageVar=imageVar,\n",
    "                                       openTab=False)"
   ]
  },
  {
   "cell_type": "markdown",
   "metadata": {},
   "source": [
    "# Launch the clickable histogram, and let the sampling begin! \n",
    "## One click-response must finish before the next can begin. \n",
    "\n",
    "If you want the output of CHAD to be in a separate window, uncomment `%qtconsole`. If commented, the text output showing the responses to your clicks will appear below the last cell."
   ]
  },
  {
   "cell_type": "code",
   "execution_count": 27,
   "metadata": {
    "collapsed": false
   },
   "outputs": [
    {
     "name": "stdout",
     "output_type": "stream",
     "text": [
      "Saving IDV bundle(s)...\n",
      "2007-06-05 08:30:00\n",
      "208 E -20 N\n",
      "X= 13 mm day-1 Y=0.281 W m-2\n",
      "x%: 98.889 y%: 96.667\n",
      "\n",
      "Link to cloudsir image: http://g5nr.nccs.nasa.gov/static/naturerun/fimages/CLOUDSIR/Y2007/M06/D05/cloudsir_globe_c1440_NR_BETA9-SNAP_20070605_0830z.png\n",
      "\n",
      "Link to tropical image: http://g5nr.nccs.nasa.gov/static/naturerun/fimages/TROPICAL/Y2007/M06/D05/tropical_globe_c1440_NR_BETA9-SNAP_20070605_0830z.png\n",
      "\n",
      "Bundle 'full' Saved!\n",
      "Bundle 'simple' Saved!\n",
      "\n",
      "Creating Case Notebook (MyFirstSession_Precip_quantile_98.889_SKEDot_quantile_96.667_lat_-20_lon_208_time_20070605_0830.ipynb)\n",
      "Copy the template\n",
      "Adding quicklook images to the notebook\n",
      "Now looping over  ['cloudsir', 'tropical'] ...\n",
      " trying  cloudsir ...\n",
      "appending 0\n",
      " trying  tropical ...\n",
      "appending 1 and adding URL\n",
      "Case Notebook created!\n"
     ]
    }
   ],
   "source": [
    "#%qtconsole\n",
    "ClickHist1 = ClickHist.ClickHist(var1Edges,var2Edges,\n",
    "                                 var1Values,var2Values,\n",
    "                                 xVarName=var1Name,yVarName=var2Name,\n",
    "                                 xUnits=var1Units,yUnits=var2Units,\n",
    "                                 xFmtStr=var1FmtStr,\n",
    "                                 yFmtStr=var2FmtStr,\n",
    "                                 maxPlottedInBin=housekeeping_G5NR.maxPlottedInBin_UD,\n",
    "                                 quantiles=quantiles,\n",
    "                                 metadata=metadata_UD)\n",
    "ClickHist1.setDo(ClickHistDo1)\n",
    "ClickHist1.showPlot()"
   ]
  },
  {
   "cell_type": "code",
   "execution_count": null,
   "metadata": {
    "collapsed": false
   },
   "outputs": [],
   "source": []
  }
 ],
 "metadata": {
  "anaconda-cloud": {},
  "kernelspec": {
   "display_name": "Python [default]",
   "language": "python",
   "name": "python2"
  },
  "language_info": {
   "codemirror_mode": {
    "name": "ipython",
    "version": 2
   },
   "file_extension": ".py",
   "mimetype": "text/x-python",
   "name": "python",
   "nbconvert_exporter": "python",
   "pygments_lexer": "ipython2",
   "version": "2.7.10"
  }
 },
 "nbformat": 4,
 "nbformat_minor": 0
}
