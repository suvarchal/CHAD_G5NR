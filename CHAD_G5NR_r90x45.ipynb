{
 "cells": [
  {
   "cell_type": "markdown",
   "metadata": {},
   "source": [
    "## Clickable Histogram of Atmospheric Data (CHAD)\n",
    "### *(Clickable Histogram (ClickHist) + Atmospheric Data Input)*\n",
    "\n",
    "Author: [Matthew Niznik](http://matthewniznik.com) ([matt@matthewniznik.com](mailto:matt@matthewniznik.com))<br>\n",
    "Post-Doctoral Associate,\n",
    "[RSMAS](http://rsmas.miami.edu/),\n",
    "[University of Miami](http://welcome.miami.edu/)\n",
    "\n",
    "For more information, see:<br>\n",
    "https://github.com/matthewniznik/ClickHist/wiki<br>\n",
    "http://matthewniznik.com/research-projects/clickhist<br>"
   ]
  },
  {
   "cell_type": "markdown",
   "metadata": {},
   "source": [
    "# Let's get started.\n",
    "## (1) Setting Input/Output Files\n",
    "## First, you need to chose the *template* bundle.\n",
    "### This is an IDV bundle with your desired data and displays that ClickHist will alter to focus on the time and location relevant to scatter points you select.\n",
    "**Note:** The first bundle in both lists here will be the one referenced in the later script that generates images, movies, and a .zidv file. It should probably be the \"full\" bundle with the variables you want to study."
   ]
  },
  {
   "cell_type": "code",
   "execution_count": null,
   "metadata": {
    "collapsed": true
   },
   "outputs": [],
   "source": [
    "bundleInFilenames = ['G5NR_template_full', 'G5NR_template_simple_cloudsir']\n",
    "bundleOutTags = ['full', 'simple']"
   ]
  },
  {
   "cell_type": "markdown",
   "metadata": {},
   "source": [
    "## Now, pick a Tag for this session's *Case Notebooks*.\n",
    "#### This is a notebook that will be generated separately from this one containing snapshots of ClickHists and other images related to each case you select.\n",
    "This way, without much extra effort you can remember what you were working on!"
   ]
  },
  {
   "cell_type": "code",
   "execution_count": null,
   "metadata": {
    "collapsed": true
   },
   "outputs": [],
   "source": [
    "caseNotebookFilename = 'Feb22'"
   ]
  },
  {
   "cell_type": "markdown",
   "metadata": {},
   "source": [
    "## (2) Set the variables, data sources, and other necessary information.\n",
    "### What geographic subset are you interested in exploring?\n",
    "\n",
    "Longitude: 0 through 360 (Degrees East)<br>\n",
    "Latitude: -90 through 90 (Degrees North)<br>"
   ]
  },
  {
   "cell_type": "code",
   "execution_count": null,
   "metadata": {
    "collapsed": true
   },
   "outputs": [],
   "source": [
    "lonLow = 360.-160.\n",
    "lonHigh = 360.-120.\n",
    "latLow = -25.0\n",
    "latHigh = 15.0"
   ]
  },
  {
   "cell_type": "markdown",
   "metadata": {},
   "source": [
    "### Three URLs of CHAD preprocessed data are below. Select the time interval you prefer.\n",
    "**Every Hour:**"
   ]
  },
  {
   "cell_type": "code",
   "execution_count": null,
   "metadata": {
    "collapsed": true
   },
   "outputs": [],
   "source": [
    "urlToLoad = ('https://weather.rsmas.miami.edu/repository/'+\n",
    "             'opendap/synth:eab82de2-d682-4dc0-ba8b-2fac7746d269:'+\n",
    "             'L2FsbFZhcnNfcjkweDQ1XzEubmM0/entry.das')"
   ]
  },
  {
   "cell_type": "markdown",
   "metadata": {},
   "source": [
    "**Every Three Hours:**"
   ]
  },
  {
   "cell_type": "code",
   "execution_count": null,
   "metadata": {
    "collapsed": true
   },
   "outputs": [],
   "source": [
    "urlToLoad = ('https://weather.rsmas.miami.edu/repository/'+\n",
    "             'opendap/synth:eab82de2-d682-4dc0-ba8b-2fac7746d269:'+\n",
    "             'L2FsbFZhcnNfcjkweDQ1XzMubmM0/entry.das')"
   ]
  },
  {
   "cell_type": "markdown",
   "metadata": {},
   "source": [
    "**Every Six Hours:**"
   ]
  },
  {
   "cell_type": "code",
   "execution_count": null,
   "metadata": {
    "collapsed": true
   },
   "outputs": [],
   "source": [
    "urlToLoad = ('https://weather.rsmas.miami.edu/repository/'+\n",
    "             'opendap/synth:eab82de2-d682-4dc0-ba8b-2fac7746d269:'+\n",
    "             'L2FsbFZhcnNfcjkweDQ1XzYubmM0/entry.das')"
   ]
  },
  {
   "cell_type": "markdown",
   "metadata": {},
   "source": [
    "### Now let's get some information on the variables you want\n",
    "\n",
    "**For this data, we've preprogrammed all of the units and data into a module so you just have to pick from a list of options (case sensitive):**<br>\n",
    "Precip, W500, wPuP, TEEF, ZSKEDot, HMV"
   ]
  },
  {
   "cell_type": "code",
   "execution_count": null,
   "metadata": {
    "collapsed": true
   },
   "outputs": [],
   "source": [
    "var1Name = 'Precip'\n",
    "var2Name = 'W500'"
   ]
  },
  {
   "cell_type": "markdown",
   "metadata": {},
   "source": [
    "### What kind of snapshot from the [online G5NR repository](http://g5nr.nccs.nasa.gov/images/) of pre-made images would you like?\n",
    "\n",
    "**Options:** 'cloudsir', 'cloudsvis', 'cyclones', 'storms', 'temperature', 'tropical', 'water', 'winds'\n",
    "<br>*N.B. Must be a list. If image saving time is prohibitively long, shorten the list of variables.*"
   ]
  },
  {
   "cell_type": "code",
   "execution_count": null,
   "metadata": {
    "collapsed": true
   },
   "outputs": [],
   "source": [
    "imageVar = ['cloudsir']"
   ]
  },
  {
   "cell_type": "markdown",
   "metadata": {},
   "source": [
    "### Set how large you want the IDV bundle to be in space and time\n",
    "#### Each of these is calculated as distance from center, so `lonOffset = 1.0` means 2.0° of longitude.\n",
    "#### `dtFromCenter` needs to be in seconds"
   ]
  },
  {
   "cell_type": "code",
   "execution_count": null,
   "metadata": {
    "collapsed": true
   },
   "outputs": [],
   "source": [
    "lonOffset = 1.0\n",
    "latOffset = 1.0\n",
    "dtFromCenter = 3*3600"
   ]
  },
  {
   "cell_type": "markdown",
   "metadata": {},
   "source": [
    "### Import the necessary modules needed for CHAD to work"
   ]
  },
  {
   "cell_type": "markdown",
   "metadata": {},
   "source": [
    "*Currently supported graphics backends are Qt4Agg ('qt4') and TK ('tk')*"
   ]
  },
  {
   "cell_type": "code",
   "execution_count": null,
   "metadata": {
    "collapsed": false
   },
   "outputs": [],
   "source": [
    "#%matplotlib tk\n",
    "%matplotlib qt4\n",
    "import matplotlib\n",
    "#matplotlib.use('TkAgg')\n",
    "#matplotlib.use('Qt4Agg')\n",
    "\n",
    "from IPython.display import clear_output\n",
    "import netCDF4\n",
    "import sys\n",
    "\n",
    "import ClickHist_G5NR as ClickHist\n",
    "import ClickHistDo_G5NR as ClickHistDo\n",
    "import loadmod_G5NR"
   ]
  },
  {
   "cell_type": "markdown",
   "metadata": {},
   "source": [
    "#### This call is necessary to make sure the output displays properly\n",
    "\n",
    "(If interested in the details, see: http://bit.ly/1SsishU)"
   ]
  },
  {
   "cell_type": "code",
   "execution_count": null,
   "metadata": {
    "collapsed": true
   },
   "outputs": [],
   "source": [
    "oldsysstdout = sys.stdout\n",
    "sys.stdout = loadmod_G5NR.flushfile(sys.stdout)"
   ]
  },
  {
   "cell_type": "markdown",
   "metadata": {},
   "source": [
    "#### The following (less often edited) items are set to default values in the module `loadmod_G5NR`\n",
    "\n",
    "(You can change them in the module if desired, but they are left out here to save space. For \"advanced\" users.)"
   ]
  },
  {
   "cell_type": "code",
   "execution_count": null,
   "metadata": {
    "collapsed": true
   },
   "outputs": [],
   "source": [
    "lonValueName = loadmod_G5NR.lonValueName\n",
    "latValueName = loadmod_G5NR.latValueName\n",
    "timeValueName = loadmod_G5NR.timeValueName\n",
    "startDatetime = loadmod_G5NR.startDatetime\n",
    "\n",
    "var1Edges = loadmod_G5NR.binOptions[var1Name]\n",
    "var2Edges = loadmod_G5NR.binOptions[var2Name]\n",
    "\n",
    "var1FmtStr = loadmod_G5NR.fmtStrOptions[var1Name]\n",
    "var2FmtStr = loadmod_G5NR.fmtStrOptions[var2Name]\n",
    "\n",
    "var1ValueName = loadmod_G5NR.valueNameOptions[var1Name]\n",
    "var2ValueName = loadmod_G5NR.valueNameOptions[var2Name]\n",
    "\n",
    "var1Units = loadmod_G5NR.varUnitOptions[var1Name]\n",
    "var2Units = loadmod_G5NR.varUnitOptions[var2Name]\n",
    "metadata_UD = (var1Name+' vs '+var2Name+': '+\n",
    "               str(lonLow)+' to '+str(lonHigh)+' E, '+\n",
    "               str(latLow)+' to '+str(latHigh)+' N')\n",
    "\n",
    "var1ValueMult = loadmod_G5NR.varMultOptions[var1Name]\n",
    "var2ValueMult = loadmod_G5NR.varMultOptions[var2Name]"
   ]
  },
  {
   "cell_type": "markdown",
   "metadata": {},
   "source": [
    "## (3) Load the Data\n",
    "\n",
    "**N.B.** CHAD currently expects the 3-D variables to be in the Python format `variable[times,latitudes,longitudes]`.<br>\n",
    "If this is not the default, you will have to either permute the data below or preprocess the data so that it matches this format."
   ]
  },
  {
   "cell_type": "code",
   "execution_count": null,
   "metadata": {
    "collapsed": true
   },
   "outputs": [],
   "source": [
    "cdfIn = netCDF4.Dataset(urlToLoad,'r')"
   ]
  },
  {
   "cell_type": "code",
   "execution_count": null,
   "metadata": {
    "collapsed": false
   },
   "outputs": [],
   "source": [
    "lonValues = cdfIn.variables[lonValueName][:]\n",
    "latValues = cdfIn.variables[latValueName][:]\n",
    "timeValues = cdfIn.variables[timeValueName][:]*loadmod_G5NR.timeValueMult"
   ]
  },
  {
   "cell_type": "markdown",
   "metadata": {},
   "source": [
    "#### By finding the needed index ranges here, we can load a subset of the data over the web instead of loading it all and subsetting later."
   ]
  },
  {
   "cell_type": "code",
   "execution_count": null,
   "metadata": {
    "collapsed": false
   },
   "outputs": [],
   "source": [
    "lowLonInt,highLonInt = loadmod_G5NR.getIntEdges(lonValues,lonLow,lonHigh)\n",
    "lowLatInt,highLatInt = loadmod_G5NR.getIntEdges(latValues,latLow,latHigh)"
   ]
  },
  {
   "cell_type": "markdown",
   "metadata": {},
   "source": [
    "*Based on the data chunk you're accessing, the variable load may take some time.*"
   ]
  },
  {
   "cell_type": "code",
   "execution_count": null,
   "metadata": {
    "collapsed": true
   },
   "outputs": [],
   "source": [
    "var1Values = cdfIn.variables[var1ValueName][:,\n",
    "                                            lowLatInt:highLatInt+1,\n",
    "                                            lowLonInt:highLonInt+1]*\\\n",
    "                                            var1ValueMult\n",
    "var2Values = cdfIn.variables[var2ValueName][:,\n",
    "                                            lowLatInt:highLatInt+1,\n",
    "                                            lowLonInt:highLonInt+1]*\\\n",
    "                                            var2ValueMult"
   ]
  },
  {
   "cell_type": "markdown",
   "metadata": {},
   "source": [
    "*(We now subset the longitudes and latitudes since the previous call to getIntEdges needed the full lon/lat.)*"
   ]
  },
  {
   "cell_type": "code",
   "execution_count": null,
   "metadata": {
    "collapsed": true
   },
   "outputs": [],
   "source": [
    "lonValues = lonValues[lowLonInt:highLonInt+1]\n",
    "latValues = latValues[lowLatInt:highLatInt+1]"
   ]
  },
  {
   "cell_type": "code",
   "execution_count": null,
   "metadata": {
    "collapsed": true
   },
   "outputs": [],
   "source": [
    "cdfIn.close()"
   ]
  },
  {
   "cell_type": "markdown",
   "metadata": {},
   "source": [
    "## (4) Create ClickHist and ClickHistDo Instances"
   ]
  },
  {
   "cell_type": "markdown",
   "metadata": {},
   "source": [
    "### Initialize 'ClickHistDo'"
   ]
  },
  {
   "cell_type": "code",
   "execution_count": null,
   "metadata": {
    "collapsed": false
   },
   "outputs": [],
   "source": [
    "ClickHistDo1 = ClickHistDo.ClickHistDo(lonValues,latValues,\n",
    "                                       timeValues,startDatetime,\n",
    "                                       bundleInFilenames,\n",
    "                                       bundleOutTags,\n",
    "                                       caseNotebookFilename,\n",
    "                                       xVarName=var1Name,\n",
    "                                       yVarName=var2Name,\n",
    "                                       lonOffset=lonOffset,\n",
    "                                       latOffset=latOffset,\n",
    "                                       dtFromCenter=dtFromCenter,\n",
    "                                       imageVar=imageVar,\n",
    "                                       openTab=False)"
   ]
  },
  {
   "cell_type": "markdown",
   "metadata": {},
   "source": [
    "### Initialize 'ClickHist' and launch!"
   ]
  },
  {
   "cell_type": "markdown",
   "metadata": {},
   "source": [
    "If you want the output of CHAD to be in a separate window, make sure `%qtconsole` below is not commented. Otherwise, the text output will appear below the last cell."
   ]
  },
  {
   "cell_type": "code",
   "execution_count": null,
   "metadata": {
    "collapsed": false
   },
   "outputs": [],
   "source": [
    "#%qtconsole\n",
    "ClickHist1 = ClickHist.ClickHist(var1Edges,var2Edges,\n",
    "                                 var1Values,var2Values,\n",
    "                                 xVarName=var1Name,yVarName=var2Name,\n",
    "                                 xUnits=var1Units,yUnits=var2Units,\n",
    "                                 xFmtStr=var1FmtStr,\n",
    "                                 yFmtStr=var2FmtStr,\n",
    "                                 maxPlottedInBin=loadmod_G5NR.maxPlottedInBin_UD,\n",
    "                                 metadata=metadata_UD)\n",
    "ClickHist1.setDo(ClickHistDo1)\n",
    "ClickHist1.showPlot()"
   ]
  },
  {
   "cell_type": "code",
   "execution_count": null,
   "metadata": {
    "collapsed": true
   },
   "outputs": [],
   "source": []
  }
 ],
 "metadata": {
  "kernelspec": {
   "display_name": "Python 2",
   "language": "python",
   "name": "python2"
  },
  "language_info": {
   "codemirror_mode": {
    "name": "ipython",
    "version": 2
   },
   "file_extension": ".py",
   "mimetype": "text/x-python",
   "name": "python",
   "nbconvert_exporter": "python",
   "pygments_lexer": "ipython2",
   "version": "2.7.11"
  }
 },
 "nbformat": 4,
 "nbformat_minor": 0
}
