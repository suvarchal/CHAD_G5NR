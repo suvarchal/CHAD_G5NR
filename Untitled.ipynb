{
 "cells": [
  {
   "cell_type": "code",
   "execution_count": 20,
   "metadata": {
    "collapsed": true
   },
   "outputs": [],
   "source": [
    "x = 'Precip'\n",
    "y = 'SKEdot'\n",
    "xPer = 99.999999\n",
    "yper = 01.234\n",
    "Lat = -10.234\n",
    "Lon = 23\n",
    "time='20010304_0600'"
   ]
  },
  {
   "cell_type": "code",
   "execution_count": 22,
   "metadata": {
    "collapsed": false
   },
   "outputs": [
    {
     "data": {
      "text/plain": [
       "'Precip_quantile_99.999_lat_-10_'"
      ]
     },
     "execution_count": 22,
     "metadata": {},
     "output_type": "execute_result"
    }
   ],
   "source": [
    "name = x+'_quantile_'+ \\\n",
    "\"{:005.3f}\".format(min(xPer, 99.999))+'_'+'lat_'+str(\"%02i\"%Lat)+'_' \n",
    "\n",
    "name"
   ]
  },
  {
   "cell_type": "code",
   "execution_count": 8,
   "metadata": {
    "collapsed": false
   },
   "outputs": [
    {
     "ename": "SyntaxError",
     "evalue": "invalid syntax (<ipython-input-8-c4353f17dfe0>, line 1)",
     "output_type": "error",
     "traceback": [
      "\u001b[0;36m  File \u001b[0;32m\"<ipython-input-8-c4353f17dfe0>\"\u001b[0;36m, line \u001b[0;32m1\u001b[0m\n\u001b[0;31m    name = x+'_quantile_'+\u001b[0m\n\u001b[0m                          ^\u001b[0m\n\u001b[0;31mSyntaxError\u001b[0m\u001b[0;31m:\u001b[0m invalid syntax\n"
     ]
    }
   ],
   "source": [
    "name = x+'_quantile_'+\n",
    "\"{:005.0f}\".format(min(1000*self.xPer, 99999))+'_' +\n",
    "                          self.yVarName+'_quantile_'+\n",
    "                          \"{:005.0f}\".format(min(1000*self.yPer, 99999))+'_' +\n",
    "                          'lat'+str(\"%02i\"%inputLat)+'_' +\n",
    "                          'lon'+str(\"%03i\"%inputLon)+'_' +\n",
    "                          'time'+timeTag"
   ]
  },
  {
   "cell_type": "code",
   "execution_count": 38,
   "metadata": {
    "collapsed": false
   },
   "outputs": [
    {
     "data": {
      "text/plain": [
       "'   \"Quicklooks from URL\" http'"
      ]
     },
     "execution_count": 38,
     "metadata": {},
     "output_type": "execute_result"
    }
   ],
   "source": [
    "url='http'\n",
    "\n",
    "test = '   \\\"Quicklooks from URL\\\" '+url\n",
    "\n",
    "test"
   ]
  },
  {
   "cell_type": "code",
   "execution_count": 40,
   "metadata": {
    "collapsed": false
   },
   "outputs": [
    {
     "data": {
      "text/plain": [
       "'    \"![](../Images/http)\"\\n'"
      ]
     },
     "execution_count": 40,
     "metadata": {},
     "output_type": "execute_result"
    }
   ],
   "source": [
    "'    \\\"![](../Images/' + url+')\\\"\\n'"
   ]
  },
  {
   "cell_type": "code",
   "execution_count": null,
   "metadata": {
    "collapsed": true
   },
   "outputs": [],
   "source": []
  }
 ],
 "metadata": {
  "kernelspec": {
   "display_name": "Python [default]",
   "language": "python",
   "name": "python2"
  },
  "language_info": {
   "codemirror_mode": {
    "name": "ipython",
    "version": 2
   },
   "file_extension": ".py",
   "mimetype": "text/x-python",
   "name": "python",
   "nbconvert_exporter": "python",
   "pygments_lexer": "ipython2",
   "version": "2.7.10"
  }
 },
 "nbformat": 4,
 "nbformat_minor": 0
}
