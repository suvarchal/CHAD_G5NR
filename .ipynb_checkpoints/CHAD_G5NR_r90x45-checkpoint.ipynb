{
 "cells": [
  {
   "cell_type": "markdown",
   "metadata": {},
   "source": [
    "# Drilling down into GEOS-5 Nature Run 4-degree stats\n",
    "\n",
    "This software is from https://github.com/brianmapes/CHAD_G5NR <br>\n",
    "Questions? Brian Mapes ([mapes@miami.edu](mailto:mapes@miami.edu))<br>\n",
    "\n",
    "Original author was Matthew Niznik (a postdoc 2015-2016), with the more general package:<br>\n",
    "https://github.com/matthewniznik/ClickHist/wiki<br>\n",
    "http://matthewniznik.com/research-projects/clickhist<br>"
   ]
  },
  {
   "cell_type": "markdown",
   "metadata": {},
   "source": [
    "## Now, pick a Tag for this session's *Case Notebooks*.\n",
    "#### This is a notebook that will be generated separately from this one containing snapshots of ClickHists and other images related to each case you select.\n",
    "This way, without much extra effort you can remember what you were working on!"
   ]
  },
  {
   "cell_type": "code",
   "execution_count": 2,
   "metadata": {
    "collapsed": true
   },
   "outputs": [],
   "source": [
    "caseNotebookFilename = 'Hamburg_Dec2016'"
   ]
  },
  {
   "cell_type": "markdown",
   "metadata": {},
   "source": [
    "## (2) Set the variables, data sources, and other necessary information.\n",
    "### What geographic subset are you interested in exploring?\n",
    "\n",
    "Longitude: 0 through 360 (Degrees East)<br>\n",
    "Latitude: -90 through 90 (Degrees North)<br>"
   ]
  },
  {
   "cell_type": "code",
   "execution_count": 3,
   "metadata": {
    "collapsed": true
   },
   "outputs": [],
   "source": [
    "lonLow = 360.-160.\n",
    "lonHigh = 360.-150.\n",
    "latLow = -25.0\n",
    "latHigh = -15.0\n",
    "\n",
    "#These are indices, crude to speed up testing\n",
    "timelimit1 = 18000\n",
    "timelimit2 = 18010"
   ]
  },
  {
   "cell_type": "markdown",
   "metadata": {},
   "source": [
    "### Three URLs of preprocessed GEOS-5 data at 4 degree coarse grid scale are below. Select the time interval you prefer."
   ]
  },
  {
   "cell_type": "markdown",
   "metadata": {},
   "source": [
    "**Every Hour:**"
   ]
  },
  {
   "cell_type": "code",
   "execution_count": 4,
   "metadata": {
    "collapsed": true
   },
   "outputs": [],
   "source": [
    "urlToLoad = ('http://weather.rsmas.miami.edu/repository/opendap/'+\n",
    "             'synth:eab82de2-d682-4dc0-ba8b-2fac7746d269:'+\n",
    "             'L2FsbFZhcnNfcjkweDQ1XzIwMTZfRGVjX25vWlNLRURPVC5uYzQ=/entry.das')  \n",
    "# http://weather.rsmas.miami.edu/repository/entry/show?entryid=synth%3Aeab82de2-d682-4dc0-ba8b-2fac7746d269%3AL2FsbFZhcnNfcjkweDQ1XzIwMTZfRGVjX25vWlNLRURPVC5uYzQ%3D"
   ]
  },
  {
   "cell_type": "markdown",
   "metadata": {},
   "source": [
    "### Now let's get some information on the variables you want\n",
    "\n",
    "**For this data, we've preprogrammed all of the units and data into a module so you just have to pick from a list of options (case sensitive):**<br>\n",
    "Precip, W500, wPuP, TEEF, SKEDot, HMV"
   ]
  },
  {
   "cell_type": "code",
   "execution_count": 5,
   "metadata": {
    "collapsed": true
   },
   "outputs": [],
   "source": [
    "var1Name = 'Precip'\n",
    "var2Name = 'SKEDot'"
   ]
  },
  {
   "cell_type": "markdown",
   "metadata": {},
   "source": [
    "### What kind of snapshot from the [online G5NR repository](http://g5nr.nccs.nasa.gov/images/) of pre-made images would you like?\n",
    "\n",
    "**Options:** 'cloudsir', 'cloudsvis', 'cyclones', 'storms', 'temperature', 'tropical', 'water', 'winds'\n",
    "<br>*N.B. Must be a list. If image saving time is prohibitively long, shorten the list of variables.*"
   ]
  },
  {
   "cell_type": "code",
   "execution_count": 6,
   "metadata": {
    "collapsed": true
   },
   "outputs": [],
   "source": [
    "imageVar = ['cloudsir','tropical']"
   ]
  },
  {
   "cell_type": "markdown",
   "metadata": {},
   "source": [
    "## (1) Setting Input/Output Files\n",
    "## First, you need to chose the *template* IDV bundle.\n",
    "### This is an IDV bundle with your desired data and displays that ClickHist will alter to focus on the time and location relevant to scatter points you select.\n",
    "**Note:** The first bundle in both lists here will be the one referenced in the later script that generates images, movies, and a .zidv file. It should probably be the \"full\" bundle with the variables you want to study."
   ]
  },
  {
   "cell_type": "code",
   "execution_count": 1,
   "metadata": {
    "collapsed": true
   },
   "outputs": [],
   "source": [
    "bundleInFilenames = ['G5NR_template_full', 'G5NR_template_simple_cloudsir']\n",
    "bundleOutTags = ['full', 'simple']"
   ]
  },
  {
   "cell_type": "markdown",
   "metadata": {},
   "source": [
    "### Set how large you want the IDV bundle to be in space and time\n",
    "#### Each of these is calculated as distance from center, so `lonOffset = 1.0` means 2.0° of longitude.\n",
    "#### `dtFromCenter` needs to be in seconds"
   ]
  },
  {
   "cell_type": "code",
   "execution_count": 7,
   "metadata": {
    "collapsed": true
   },
   "outputs": [],
   "source": [
    "lonOffset = 1.0\n",
    "latOffset = 1.0\n",
    "dtFromCenter = 3*3600."
   ]
  },
  {
   "cell_type": "markdown",
   "metadata": {},
   "source": [
    "### Would you like specific quantiles indicated in X and Y?\n",
    "**If so, specify them here.**"
   ]
  },
  {
   "cell_type": "code",
   "execution_count": 8,
   "metadata": {
    "collapsed": true
   },
   "outputs": [],
   "source": [
    "quantiles = [0.01,0.1,1,5,95,99,99.9,99.99]"
   ]
  },
  {
   "cell_type": "markdown",
   "metadata": {},
   "source": [
    "### Import the necessary modules needed for CHAD to work"
   ]
  },
  {
   "cell_type": "markdown",
   "metadata": {},
   "source": [
    "*Currently supported graphics backends are Qt4Agg ('qt4') and TK ('tk')*"
   ]
  },
  {
   "cell_type": "code",
   "execution_count": 9,
   "metadata": {
    "collapsed": false
   },
   "outputs": [],
   "source": [
    "#%matplotlib tk\n",
    "%matplotlib qt4\n",
    "import matplotlib\n",
    "#matplotlib.use('TkAgg')\n",
    "#matplotlib.use('Qt4Agg')\n",
    "\n",
    "from IPython.display import clear_output\n",
    "import netCDF4 #If this gives an error, in a terminal type conda install netCDF4 or pip netCDF4\n",
    "import sys\n",
    "\n",
    "import ClickHist_G5NR as ClickHist\n",
    "import ClickHistDo_G5NR as ClickHistDo\n",
    "import housekeeping_G5NR\n",
    "import numpy as np"
   ]
  },
  {
   "cell_type": "markdown",
   "metadata": {},
   "source": [
    "#### The following (less often edited) items are set to default values in the module `housekeeping_G5NR`\n",
    "\n",
    "(You can change them in the module if desired, but they are left out here to save space. For \"advanced\" users.)"
   ]
  },
  {
   "cell_type": "code",
   "execution_count": 10,
   "metadata": {
    "collapsed": false
   },
   "outputs": [],
   "source": [
    "lonValueName = housekeeping_G5NR.lonValueName\n",
    "latValueName = housekeeping_G5NR.latValueName\n",
    "timeValueName = housekeeping_G5NR.timeValueName\n",
    "startDatetime = housekeeping_G5NR.startDatetime\n",
    "\n",
    "var1Edges = housekeeping_G5NR.binOptions[var1Name]\n",
    "var2Edges = housekeeping_G5NR.binOptions[var2Name]\n",
    "\n",
    "var1FmtStr = housekeeping_G5NR.fmtStrOptions[var1Name]\n",
    "var2FmtStr = housekeeping_G5NR.fmtStrOptions[var2Name]\n",
    "\n",
    "var1ValueName = housekeeping_G5NR.valueNameOptions[var1Name]\n",
    "var2ValueName = housekeeping_G5NR.valueNameOptions[var2Name]\n",
    "\n",
    "var1Units = housekeeping_G5NR.varUnitOptions[var1Name]\n",
    "var2Units = housekeeping_G5NR.varUnitOptions[var2Name]\n",
    "metadata_UD = (var1Name+' vs '+var2Name+': '+\n",
    "               str(lonLow)+' to '+str(lonHigh)+' E, '+\n",
    "               str(latLow)+' to '+str(latHigh)+' N')\n",
    "\n",
    "var1ValueMult = housekeeping_G5NR.varMultOptions[var1Name]\n",
    "var2ValueMult = housekeeping_G5NR.varMultOptions[var2Name]"
   ]
  },
  {
   "cell_type": "markdown",
   "metadata": {},
   "source": [
    "## (3) Load the Data\n",
    "\n",
    "**N.B.** CHAD currently expects the 3-D variables to be in the Python format `variable[times,latitudes,longitudes]`.<br>\n",
    "If this is not the default, you will have to either permute the data below or preprocess the data so that it matches this format."
   ]
  },
  {
   "cell_type": "code",
   "execution_count": 11,
   "metadata": {
    "collapsed": true
   },
   "outputs": [],
   "source": [
    "cdfIn = netCDF4.Dataset(urlToLoad,'r')"
   ]
  },
  {
   "cell_type": "code",
   "execution_count": 12,
   "metadata": {
    "collapsed": false
   },
   "outputs": [],
   "source": [
    "#cdfIn.variables"
   ]
  },
  {
   "cell_type": "code",
   "execution_count": 13,
   "metadata": {
    "collapsed": false
   },
   "outputs": [],
   "source": [
    "lonValues = cdfIn.variables[lonValueName][:]\n",
    "latValues = cdfIn.variables[latValueName][:]\n",
    "timeValues = cdfIn.variables[timeValueName][timelimit1:timelimit2]*housekeeping_G5NR.timeValueMult"
   ]
  },
  {
   "cell_type": "markdown",
   "metadata": {},
   "source": [
    "#### By finding the needed index ranges here, we can load a subset of the data over the web instead of loading it all and subsetting later."
   ]
  },
  {
   "cell_type": "code",
   "execution_count": 14,
   "metadata": {
    "collapsed": false
   },
   "outputs": [],
   "source": [
    "lowLonInt,highLonInt = housekeeping_G5NR.getIntEdges(lonValues,lonLow,lonHigh)\n",
    "lowLatInt,highLatInt = housekeeping_G5NR.getIntEdges(latValues,latLow,latHigh)"
   ]
  },
  {
   "cell_type": "code",
   "execution_count": 15,
   "metadata": {
    "collapsed": false
   },
   "outputs": [
    {
     "name": "stdout",
     "output_type": "stream",
     "text": [
      "3 x 3 x 10\n"
     ]
    }
   ],
   "source": [
    "# How many values are we asking for?\n",
    "print highLatInt+1-lowLatInt, 'x', highLonInt+1-lowLonInt, 'x', np.size(timeValues)"
   ]
  },
  {
   "cell_type": "markdown",
   "metadata": {},
   "source": [
    "*Based on the above, the following variable load command may take some time.*"
   ]
  },
  {
   "cell_type": "code",
   "execution_count": 16,
   "metadata": {
    "collapsed": false
   },
   "outputs": [
    {
     "data": {
      "text/plain": [
       "(10, 3, 3)"
      ]
     },
     "execution_count": 16,
     "metadata": {},
     "output_type": "execute_result"
    }
   ],
   "source": [
    "var1Values = cdfIn.variables[var1ValueName][timelimit1:timelimit2,\n",
    "                                            lowLatInt:highLatInt+1,\n",
    "                                            lowLonInt:highLonInt+1]*\\\n",
    "                                            var1ValueMult\n",
    "var2Values = cdfIn.variables[var2ValueName][timelimit1:timelimit2,\n",
    "                                            lowLatInt:highLatInt+1,\n",
    "                                            lowLonInt:highLonInt+1]*\\\n",
    "                                            var2ValueMult\n",
    "\n",
    "np.shape(var1Values)"
   ]
  },
  {
   "cell_type": "markdown",
   "metadata": {},
   "source": [
    "*(We now subset the longitudes and latitudes since the previous call to getIntEdges needed the full lon/lat.)*"
   ]
  },
  {
   "cell_type": "code",
   "execution_count": 17,
   "metadata": {
    "collapsed": true
   },
   "outputs": [],
   "source": [
    "lonValues = lonValues[lowLonInt:highLonInt+1]\n",
    "latValues = latValues[lowLatInt:highLatInt+1]"
   ]
  },
  {
   "cell_type": "code",
   "execution_count": 18,
   "metadata": {
    "collapsed": true
   },
   "outputs": [],
   "source": [
    "cdfIn.close()"
   ]
  },
  {
   "cell_type": "code",
   "execution_count": 19,
   "metadata": {
    "collapsed": false
   },
   "outputs": [
    {
     "data": {
      "text/plain": [
       "array([ 64800000.,  64803600.,  64807200.,  64810800.,  64814400.,\n",
       "        64818000.,  64821600.,  64825200.,  64828800.,  64832400.])"
      ]
     },
     "execution_count": 19,
     "metadata": {},
     "output_type": "execute_result"
    }
   ],
   "source": [
    "timeValues"
   ]
  },
  {
   "cell_type": "markdown",
   "metadata": {},
   "source": [
    "## (4) Create ClickHist and ClickHistDo Instances"
   ]
  },
  {
   "cell_type": "markdown",
   "metadata": {},
   "source": [
    "#### This call is necessary to make sure the output displays properly\n",
    "\n",
    "(If interested in the details, see: http://bit.ly/1SsishU)"
   ]
  },
  {
   "cell_type": "code",
   "execution_count": 20,
   "metadata": {
    "collapsed": false
   },
   "outputs": [],
   "source": [
    "oldsysstdout = sys.stdout\n",
    "sys.stdout = housekeeping_G5NR.flushfile(sys.stdout)"
   ]
  },
  {
   "cell_type": "markdown",
   "metadata": {},
   "source": [
    "### Initialize 'ClickHistDo'"
   ]
  },
  {
   "cell_type": "code",
   "execution_count": 21,
   "metadata": {
    "collapsed": false
   },
   "outputs": [],
   "source": [
    "ClickHistDo1 = ClickHistDo.ClickHistDo(lonValues,latValues,\n",
    "                                       timeValues,startDatetime,\n",
    "                                       bundleInFilenames,\n",
    "                                       bundleOutTags,\n",
    "                                       caseNotebookFilename,\n",
    "                                       xVarName=var1Name,\n",
    "                                       yVarName=var2Name,\n",
    "                                       lonOffset=lonOffset,\n",
    "                                       latOffset=latOffset,\n",
    "                                       dtFromCenter=dtFromCenter,\n",
    "                                       imageVar=imageVar,\n",
    "                                       openTab=False)"
   ]
  },
  {
   "cell_type": "markdown",
   "metadata": {},
   "source": [
    "### Initialize 'ClickHist' and launch!"
   ]
  },
  {
   "cell_type": "markdown",
   "metadata": {},
   "source": [
    "If you want the output of CHAD to be in a separate window, make sure `%qtconsole` below is not commented. Otherwise, the text output will appear below the last cell."
   ]
  },
  {
   "cell_type": "code",
   "execution_count": 22,
   "metadata": {
    "collapsed": false
   },
   "outputs": [
    {
     "name": "stdout",
     "output_type": "stream",
     "text": [
      "Saving IDV bundle(s)...\n",
      "2007-06-05 06:30:00\n",
      "208 E -20 N\n",
      "X= 11 mm day-1 Y=-0.417 W m-2\n",
      "x%: 96.667 y%: 1.111\n",
      "\n",
      "Link to cloudsir image: http://g5nr.nccs.nasa.gov/static/naturerun/fimages/CLOUDSIR/Y2007/M06/D05/cloudsir_globe_c1440_NR_BETA9-SNAP_20070605_0630z.png\n",
      "\n",
      "Link to tropical image: http://g5nr.nccs.nasa.gov/static/naturerun/fimages/TROPICAL/Y2007/M06/D05/tropical_globe_c1440_NR_BETA9-SNAP_20070605_0630z.png\n",
      "\n",
      "Bundle 'full' Saved!\n",
      "Bundle 'simple' Saved!\n",
      "\n",
      "Creating Case Notebook (Hamburg_Dec2016_Precip_quantile_96.667_SKEDot_quantile_1.111_lat_-20_lon_208_time_20070605_0630.ipynb)\n",
      "Copy the template\n",
      "Adding quicklook images to the notebook\n",
      "Now looping over  ['cloudsir', 'tropical'] ...\n",
      " trying  cloudsir ...\n",
      "appending 0\n",
      " trying  tropical ...\n",
      "appending 1 and adding URL\n",
      "Case Notebook created!\n"
     ]
    }
   ],
   "source": [
    "#%qtconsole\n",
    "ClickHist1 = ClickHist.ClickHist(var1Edges,var2Edges,\n",
    "                                 var1Values,var2Values,\n",
    "                                 xVarName=var1Name,yVarName=var2Name,\n",
    "                                 xUnits=var1Units,yUnits=var2Units,\n",
    "                                 xFmtStr=var1FmtStr,\n",
    "                                 yFmtStr=var2FmtStr,\n",
    "                                 maxPlottedInBin=housekeeping_G5NR.maxPlottedInBin_UD,\n",
    "                                 quantiles=quantiles,\n",
    "                                 metadata=metadata_UD)\n",
    "ClickHist1.setDo(ClickHistDo1)\n",
    "ClickHist1.showPlot()"
   ]
  },
  {
   "cell_type": "code",
   "execution_count": null,
   "metadata": {
    "collapsed": false
   },
   "outputs": [],
   "source": []
  },
  {
   "cell_type": "code",
   "execution_count": null,
   "metadata": {
    "collapsed": true
   },
   "outputs": [],
   "source": []
  }
 ],
 "metadata": {
  "anaconda-cloud": {},
  "kernelspec": {
   "display_name": "Python [default]",
   "language": "python",
   "name": "python2"
  },
  "language_info": {
   "codemirror_mode": {
    "name": "ipython",
    "version": 2
   },
   "file_extension": ".py",
   "mimetype": "text/x-python",
   "name": "python",
   "nbconvert_exporter": "python",
   "pygments_lexer": "ipython2",
   "version": "2.7.10"
  }
 },
 "nbformat": 4,
 "nbformat_minor": 0
}
